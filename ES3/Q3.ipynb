{
 "cells": [
  {
   "cell_type": "markdown",
   "metadata": {},
   "source": [
    "### Perform a goodness of fit test assuming a Poisson background"
   ]
  },
  {
   "cell_type": "code",
   "execution_count": 11,
   "metadata": {},
   "outputs": [],
   "source": [
    "import numpy as np\n",
    "from scipy.stats import chi2"
   ]
  },
  {
   "cell_type": "code",
   "execution_count": 6,
   "metadata": {},
   "outputs": [
    {
     "data": {
      "text/plain": [
       "0.777103209019948"
      ]
     },
     "execution_count": 6,
     "metadata": {},
     "output_type": "execute_result"
    }
   ],
   "source": [
    "N=2306 #Total number of observations\n",
    "events=[i for i in range(10)]\n",
    "obs=np.array([1042,860,307,78,15,3,0,0,0,1])\n",
    "lmbd=np.sum(obs*events)/N #MLE ~0.777\n",
    "lmbd\n",
    "\n"
   ]
  },
  {
   "cell_type": "code",
   "execution_count": 7,
   "metadata": {},
   "outputs": [
    {
     "name": "stderr",
     "output_type": "stream",
     "text": [
      "C:\\Users\\fayza\\AppData\\Local\\Temp\\ipykernel_23988\\1104154243.py:2: DeprecationWarning: `np.math` is a deprecated alias for the standard library `math` module (Deprecated Numpy 1.25). Replace usages of `np.math` with `math`\n",
      "  exp_freq=np.array([N*np.exp(-lmbd)*lmbd**i/np.math.factorial(i) for i in range(10)])\n"
     ]
    },
    {
     "data": {
      "text/plain": [
       "array([1.06015085e+03, 8.23846630e+02, 3.20106930e+02, 8.29187075e+01,\n",
       "       1.61090984e+01, 2.50368642e+00, 3.24270458e-01, 3.59988019e-02,\n",
       "       3.49684806e-03, 3.01934650e-04])"
      ]
     },
     "execution_count": 7,
     "metadata": {},
     "output_type": "execute_result"
    }
   ],
   "source": [
    "#compute expected frequencies\n",
    "exp_freq=np.array([N*np.exp(-lmbd)*lmbd**i/np.math.factorial(i) for i in range(10)])\n",
    "exp_freq"
   ]
  },
  {
   "cell_type": "code",
   "execution_count": 9,
   "metadata": {},
   "outputs": [
    {
     "data": {
      "text/plain": [
       "3313.239517460761"
      ]
     },
     "execution_count": 9,
     "metadata": {},
     "output_type": "execute_result"
    }
   ],
   "source": [
    "#compute chi-square\n",
    "chi_square=np.sum((obs-exp_freq)**2/exp_freq)\n",
    "chi_square"
   ]
  },
  {
   "cell_type": "code",
   "execution_count": 13,
   "metadata": {},
   "outputs": [
    {
     "data": {
      "text/plain": [
       "0.0"
      ]
     },
     "execution_count": 13,
     "metadata": {},
     "output_type": "execute_result"
    }
   ],
   "source": [
    "#compute p-value\n",
    "1-chi2.cdf(chi_square,9) #10-1 degrees of freedom"
   ]
  },
  {
   "cell_type": "markdown",
   "metadata": {},
   "source": [
    "### Now do the same excluding the last bin"
   ]
  },
  {
   "cell_type": "code",
   "execution_count": null,
   "metadata": {},
   "outputs": [
    {
     "data": {
      "text/plain": [
       "0.7735357917570499"
      ]
     },
     "execution_count": 14,
     "metadata": {},
     "output_type": "execute_result"
    }
   ],
   "source": [
    "N=2305 #Total number of observations\n",
    "events=[i for i in range(9)]\n",
    "obs=np.array([1042,860,307,78,15,3,0,0,0])\n",
    "lmbd=np.sum(obs*events)/N #MLE ~0.7735\n",
    "lmbd\n",
    "\n"
   ]
  },
  {
   "cell_type": "code",
   "execution_count": 15,
   "metadata": {},
   "outputs": [
    {
     "name": "stderr",
     "output_type": "stream",
     "text": [
      "C:\\Users\\fayza\\AppData\\Local\\Temp\\ipykernel_23988\\587401849.py:2: DeprecationWarning: `np.math` is a deprecated alias for the standard library `math` module (Deprecated Numpy 1.25). Replace usages of `np.math` with `math`\n",
      "  exp_freq=np.array([N*np.exp(-lmbd)*lmbd**i/np.math.factorial(i) for i in range(9)])\n"
     ]
    },
    {
     "data": {
      "text/plain": [
       "array([1.06347823e+03, 8.22638474e+02, 3.18170152e+02, 8.20386667e+01,\n",
       "       1.58649613e+01, 2.45442307e+00, 3.16430683e-01, 3.49672084e-02,\n",
       "       3.38104840e-03])"
      ]
     },
     "execution_count": 15,
     "metadata": {},
     "output_type": "execute_result"
    }
   ],
   "source": [
    "#compute expected frequencies\n",
    "exp_freq=np.array([N*np.exp(-lmbd)*lmbd**i/np.math.factorial(i) for i in range(9)])\n",
    "exp_freq"
   ]
  },
  {
   "cell_type": "code",
   "execution_count": 16,
   "metadata": {},
   "outputs": [
    {
     "data": {
      "text/plain": [
       "3.2448001271179443"
      ]
     },
     "execution_count": 16,
     "metadata": {},
     "output_type": "execute_result"
    }
   ],
   "source": [
    "#compute chi-square\n",
    "chi_square=np.sum((obs-exp_freq)**2/exp_freq)\n",
    "chi_square"
   ]
  },
  {
   "cell_type": "code",
   "execution_count": 18,
   "metadata": {},
   "outputs": [
    {
     "data": {
      "text/plain": [
       "0.918069006355169"
      ]
     },
     "execution_count": 18,
     "metadata": {},
     "output_type": "execute_result"
    }
   ],
   "source": [
    "#compute p-value\n",
    "1-chi2.cdf(chi_square,8) #9-1 degrees of freedom"
   ]
  }
 ],
 "metadata": {
  "kernelspec": {
   "display_name": "Python 3",
   "language": "python",
   "name": "python3"
  },
  "language_info": {
   "codemirror_mode": {
    "name": "ipython",
    "version": 3
   },
   "file_extension": ".py",
   "mimetype": "text/x-python",
   "name": "python",
   "nbconvert_exporter": "python",
   "pygments_lexer": "ipython3",
   "version": "3.11.4"
  }
 },
 "nbformat": 4,
 "nbformat_minor": 2
}
