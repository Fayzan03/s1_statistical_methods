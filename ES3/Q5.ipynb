{
 "cells": [
  {
   "cell_type": "code",
   "execution_count": 2,
   "metadata": {},
   "outputs": [],
   "source": [
    "import numpy as np"
   ]
  },
  {
   "cell_type": "code",
   "execution_count": 11,
   "metadata": {},
   "outputs": [
    {
     "name": "stdout",
     "output_type": "stream",
     "text": [
      "[[67.24, -6.888, -3.362, 6.806000000000001], [-6.888, 70.56, 6.888, -3.4860000000000007], [-3.362, 6.888, 67.24, 6.806000000000001], [6.806000000000001, -3.4860000000000007, 6.806000000000001, 68.89000000000001]]\n"
     ]
    }
   ],
   "source": [
    "xy_means=np.array([-9.3,-1.3,5.7,6.5])\n",
    "xy_stds=np.array([8.2,8.4,8.2,8.3])\n",
    "xy_cor=np.array([[1,-0.1,-0.05,0.1],[-0.1,1,0.1,-0.05],[-0.05,0.1,1,0.1],[0.1,-0.05,0.1,1]])\n",
    "xy_cov=[[0,0,0,0],[0,0,0,0],[0,0,0,0],[0,0,0,0]]\n",
    "for i in range(4):\n",
    "    for j in range(4):\n",
    "        xy_cov[i][j]=xy_stds[i]*xy_stds[j]*xy_cor[i][j]\n",
    "print(xy_cov)"
   ]
  },
  {
   "cell_type": "code",
   "execution_count": null,
   "metadata": {},
   "outputs": [
    {
     "name": "stdout",
     "output_type": "stream",
     "text": [
      "r: 9.01782527473759\n",
      "delta: 0.4948816019205631\n",
      "gamma: -0.35599658640035003\n"
     ]
    }
   ],
   "source": [
    "# Estimate the values of (r, delta, gamma)\n",
    "r=np.sqrt(xy_means[0]**2+xy_means[1]**2)+np.sqrt(xy_means[2]**2+xy_means[3]**2)\n",
    "r=r/2\n",
    "print('r:',r)\n",
    "dpg=np.arctan(xy_means[1]/xy_means[0])\n",
    "dmg=np.arctan(xy_means[3]/xy_means[2])\n",
    "delta=(dpg+dmg)/2\n",
    "gamma=(dpg-dmg)/2\n",
    "print('delta:',delta)\n",
    "print('gamma:',gamma)"
   ]
  },
  {
   "cell_type": "code",
   "execution_count": 25,
   "metadata": {},
   "outputs": [
    {
     "name": "stdout",
     "output_type": "stream",
     "text": [
      "Values (r, delta, gamma): 9.01782527473759 0.4948816019205631 -0.35599658640035003\n",
      "Uncertainties: 5.789179951859979 0.6793756821115084 0.5986414189630754\n",
      "[[ 3.35146045e+01 -3.77197564e-01 -3.11539756e-02]\n",
      " [-3.77197564e-01  4.61551317e-01  4.78248414e-04]\n",
      " [-3.11539756e-02  4.78248414e-04  3.58371548e-01]]\n",
      "[[ 1.         -0.84079046 -0.55460168]\n",
      " [-0.84079046  1.          0.01582892]\n",
      " [-0.55460168  0.01582892  1.        ]]\n"
     ]
    }
   ],
   "source": [
    "# Estimate the values of (sigma_r, sigma_delta, sigma_gamma)\n",
    "import jacobi as jacobi\n",
    "from jacobi import propagate\n",
    "\n",
    "# propagate to parameter estimates\n",
    "\n",
    "def f_radius(xp, yp, xm , ym):\n",
    "    return (np.sqrt(xp**2 + yp**2) + np.sqrt(xm**2 + ym**2)) / 2\n",
    "\n",
    "def f_delta(xp, yp, xm , ym):\n",
    "    return (np.arctan(yp / xp) + np.arctan(ym / xm)) / 2\n",
    "\n",
    "def f_gamma(xp, yp, xm , ym):\n",
    "    return (np.arctan(yp / xp) - np.arctan(ym / xm)) / 2\n",
    "\n",
    "# jacobi needs a single wrapped function\n",
    "rdg = lambda p: np.array([ f_radius(*p), f_delta(*p), f_gamma(*p) ])\n",
    "\n",
    "rdg_vals, rdg_cov = propagate(rdg, xy_means, xy_cov)\n",
    "print('Values (r, delta, gamma):', *rdg_vals)\n",
    "print('Uncertainties:', *np.sqrt(np.diag(rdg_cov)))\n",
    "print(rdg_cov)\n",
    "rdg_corr = np.corrcoef(rdg_cov)\n",
    "print(rdg_corr)"
   ]
  }
 ],
 "metadata": {
  "kernelspec": {
   "display_name": "Python 3",
   "language": "python",
   "name": "python3"
  },
  "language_info": {
   "codemirror_mode": {
    "name": "ipython",
    "version": 3
   },
   "file_extension": ".py",
   "mimetype": "text/x-python",
   "name": "python",
   "nbconvert_exporter": "python",
   "pygments_lexer": "ipython3",
   "version": "3.11.4"
  }
 },
 "nbformat": 4,
 "nbformat_minor": 2
}
